{
 "cells": [
  {
   "cell_type": "markdown",
   "metadata": {},
   "source": [
    "# Capstone Project \n",
    "\n",
    "### This Jupyter Notebook would be used for Coursera's IBM Applied Data Science Specialization Capstone Project."
   ]
  },
  {
   "cell_type": "code",
   "execution_count": 1,
   "metadata": {},
   "outputs": [],
   "source": [
    "import pandas as pd\n",
    "import numpy as np"
   ]
  },
  {
   "cell_type": "code",
   "execution_count": 4,
   "metadata": {},
   "outputs": [
    {
     "name": "stdout",
     "output_type": "stream",
     "text": [
      "Hello Capstone Project Course!\n"
     ]
    }
   ],
   "source": [
    "print(\"Hello Capstone Project Course!\")"
   ]
  },
  {
   "cell_type": "markdown",
   "metadata": {},
   "source": [
    "# Foursquare API URI Format\n",
    "## Searching for a specific type of place around a location\n",
    "#### https:// api.foursquare.com/v2/venues/search?client_id=******&client_secret=******&v=20180602&ll=40.73,-74.01&query=coffee\n",
    "## Explore more about a place\n",
    "#### https:// api.foursquare.com/v2/venues/(Unique ID of that place)?client_id=******&client_secret=******&v=20180602\n",
    "## Get the tips (only 2 for Developer Account) for a location\n",
    "#### https:// api.foursquare.com/v2/venues/(ID of that place)/tips?client_id=******&client_secret=******&v=20180602\n",
    "## Get the details of a user\n",
    "#### https:// api.foursquare.com/v2/users/(ID of that user)?client_id=******&client_secret=******&v=20180602\n",
    "## Explore all places at a given location\n",
    "#### https:// api.foursquare.com/v2/venues/explore?client_id=******&client_secret=******&v=20180602&ll=40.73,-74.01\n",
    "## Exploring trending places at a location (Results depend upon time of day)\n",
    "#### https:// api.foursquare.com/v2/venues/trending?client_id=******&client_secret=******&v=20180602&ll=40.73,-74.01"
   ]
  },
  {
   "cell_type": "code",
   "execution_count": null,
   "metadata": {},
   "outputs": [],
   "source": []
  }
 ],
 "metadata": {
  "kernelspec": {
   "display_name": "Python 3",
   "language": "python",
   "name": "python3"
  },
  "language_info": {
   "codemirror_mode": {
    "name": "ipython",
    "version": 3
   },
   "file_extension": ".py",
   "mimetype": "text/x-python",
   "name": "python",
   "nbconvert_exporter": "python",
   "pygments_lexer": "ipython3",
   "version": "3.7.0"
  }
 },
 "nbformat": 4,
 "nbformat_minor": 2
}
